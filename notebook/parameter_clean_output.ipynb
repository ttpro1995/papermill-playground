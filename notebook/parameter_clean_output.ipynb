{
 "cells": [
  {
   "cell_type": "code",
   "execution_count": 1,
   "metadata": {
    "execution": {
     "iopub.execute_input": "2021-05-13T03:42:27.964178Z",
     "iopub.status.busy": "2021-05-13T03:42:27.963323Z",
     "iopub.status.idle": "2021-05-13T03:42:27.965655Z",
     "shell.execute_reply": "2021-05-13T03:42:27.966240Z"
    },
    "papermill": {
     "duration": 0.018136,
     "end_time": "2021-05-13T03:42:27.966690",
     "exception": false,
     "start_time": "2021-05-13T03:42:27.948554",
     "status": "completed"
    },
    "tags": [
     "parameters"
    ]
   },
   "outputs": [],
   "source": [
    "a = 5\n",
    "b = 7\n",
    "c = 4\n",
    "d = \"meow\""
   ]
  },
  {
   "cell_type": "code",
   "execution_count": 2,
   "metadata": {
    "execution": {
     "iopub.execute_input": "2021-05-13T03:42:27.981411Z",
     "iopub.status.busy": "2021-05-13T03:42:27.980940Z",
     "iopub.status.idle": "2021-05-13T03:42:27.983057Z",
     "shell.execute_reply": "2021-05-13T03:42:27.983763Z"
    },
    "papermill": {
     "duration": 0.00999,
     "end_time": "2021-05-13T03:42:27.984012",
     "exception": false,
     "start_time": "2021-05-13T03:42:27.974022",
     "status": "completed"
    },
    "tags": [
     "injected-parameters"
    ]
   },
   "outputs": [],
   "source": [
    "# Parameters\n",
    "a = 1\n",
    "b = 2\n",
    "c = 3\n",
    "d = \"woof\"\n"
   ]
  },
  {
   "cell_type": "code",
   "execution_count": 3,
   "metadata": {
    "execution": {
     "iopub.execute_input": "2021-05-13T03:42:27.998324Z",
     "iopub.status.busy": "2021-05-13T03:42:27.997859Z",
     "iopub.status.idle": "2021-05-13T03:42:28.002023Z",
     "shell.execute_reply": "2021-05-13T03:42:28.001366Z"
    },
    "papermill": {
     "duration": 0.013366,
     "end_time": "2021-05-13T03:42:28.002194",
     "exception": false,
     "start_time": "2021-05-13T03:42:27.988828",
     "status": "completed"
    },
    "tags": []
   },
   "outputs": [
    {
     "name": "stdout",
     "output_type": "stream",
     "text": [
      "a  1\n",
      "b  2\n",
      "c  3\n",
      "d  woof\n"
     ]
    }
   ],
   "source": [
    "print(\"a \", a)\n",
    "print(\"b \", b)\n",
    "print(\"c \", c)\n",
    "print(\"d \", d)"
   ]
  },
  {
   "cell_type": "code",
   "execution_count": null,
   "metadata": {
    "papermill": {
     "duration": 0.005182,
     "end_time": "2021-05-13T03:42:28.012381",
     "exception": false,
     "start_time": "2021-05-13T03:42:28.007199",
     "status": "completed"
    },
    "tags": []
   },
   "outputs": [],
   "source": []
  }
 ],
 "metadata": {
  "celltoolbar": "Tags",
  "kernelspec": {
   "display_name": "Python 3",
   "language": "python",
   "name": "python3"
  },
  "language_info": {
   "codemirror_mode": {
    "name": "ipython",
    "version": 3
   },
   "file_extension": ".py",
   "mimetype": "text/x-python",
   "name": "python",
   "nbconvert_exporter": "python",
   "pygments_lexer": "ipython3",
   "version": "3.8.2"
  },
  "papermill": {
   "default_parameters": {},
   "duration": 1.069397,
   "end_time": "2021-05-13T03:42:28.221471",
   "environment_variables": {},
   "exception": null,
   "input_path": "notebook/parameter_clean.ipynb",
   "output_path": "notebook/parameter_clean_output.ipynb",
   "parameters": {
    "a": 1,
    "b": 2,
    "c": 3,
    "d": "woof"
   },
   "start_time": "2021-05-13T03:42:27.152074",
   "version": "2.2.2"
  },
  "toc": {
   "base_numbering": 1,
   "nav_menu": {},
   "number_sections": true,
   "sideBar": true,
   "skip_h1_title": false,
   "title_cell": "Table of Contents",
   "title_sidebar": "Contents",
   "toc_cell": false,
   "toc_position": {},
   "toc_section_display": true,
   "toc_window_display": false
  }
 },
 "nbformat": 4,
 "nbformat_minor": 4
}