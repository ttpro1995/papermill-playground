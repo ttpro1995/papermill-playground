{
 "cells": [
  {
   "cell_type": "markdown",
   "metadata": {
    "tags": [
     "papermill-error-cell-tag"
    ]
   },
   "source": [
    "<span style=\"color:red; font-family:Helvetica Neue, Helvetica, Arial, sans-serif; font-size:2em;\">An Exception was encountered at '<a href=\"#papermill-error-cell\">In [4]</a>'.</span>"
   ]
  },
  {
   "cell_type": "code",
   "execution_count": 1,
   "metadata": {
    "execution": {
     "iopub.execute_input": "2021-05-13T03:42:28.899145Z",
     "iopub.status.busy": "2021-05-13T03:42:28.898612Z",
     "iopub.status.idle": "2021-05-13T03:42:28.900052Z",
     "shell.execute_reply": "2021-05-13T03:42:28.900481Z"
    },
    "papermill": {
     "duration": 0.009297,
     "end_time": "2021-05-13T03:42:28.900692",
     "exception": false,
     "start_time": "2021-05-13T03:42:28.891395",
     "status": "completed"
    },
    "tags": [
     "parameters"
    ]
   },
   "outputs": [],
   "source": [
    "a = 5\n",
    "b = 7\n",
    "c = 4\n",
    "d = \"meow\""
   ]
  },
  {
   "cell_type": "code",
   "execution_count": 2,
   "metadata": {
    "execution": {
     "iopub.execute_input": "2021-05-13T03:42:28.911020Z",
     "iopub.status.busy": "2021-05-13T03:42:28.910553Z",
     "iopub.status.idle": "2021-05-13T03:42:28.912570Z",
     "shell.execute_reply": "2021-05-13T03:42:28.912106Z"
    },
    "papermill": {
     "duration": 0.008227,
     "end_time": "2021-05-13T03:42:28.912678",
     "exception": false,
     "start_time": "2021-05-13T03:42:28.904451",
     "status": "completed"
    },
    "tags": [
     "injected-parameters"
    ]
   },
   "outputs": [],
   "source": [
    "# Parameters\n",
    "a = 1\n",
    "b = 2\n",
    "c = 3\n",
    "d = \"woof\"\n"
   ]
  },
  {
   "cell_type": "code",
   "execution_count": 3,
   "metadata": {
    "execution": {
     "iopub.execute_input": "2021-05-13T03:42:28.923636Z",
     "iopub.status.busy": "2021-05-13T03:42:28.923195Z",
     "iopub.status.idle": "2021-05-13T03:42:28.925083Z",
     "shell.execute_reply": "2021-05-13T03:42:28.925450Z"
    },
    "papermill": {
     "duration": 0.009154,
     "end_time": "2021-05-13T03:42:28.925574",
     "exception": false,
     "start_time": "2021-05-13T03:42:28.916420",
     "status": "completed"
    },
    "tags": []
   },
   "outputs": [
    {
     "name": "stdout",
     "output_type": "stream",
     "text": [
      "a  1\n",
      "b  2\n",
      "c  3\n",
      "d  woof\n"
     ]
    }
   ],
   "source": [
    "print(\"a \", a)\n",
    "print(\"b \", b)\n",
    "print(\"c \", c)\n",
    "print(\"d \", d)"
   ]
  },
  {
   "cell_type": "markdown",
   "metadata": {
    "tags": [
     "papermill-error-cell-tag"
    ]
   },
   "source": [
    "<span id=\"papermill-error-cell\" style=\"color:red; font-family:Helvetica Neue, Helvetica, Arial, sans-serif; font-size:2em;\">Execution using papermill encountered an exception here and stopped:</span>"
   ]
  },
  {
   "cell_type": "code",
   "execution_count": 4,
   "metadata": {
    "execution": {
     "iopub.execute_input": "2021-05-13T03:42:28.936845Z",
     "iopub.status.busy": "2021-05-13T03:42:28.936355Z",
     "iopub.status.idle": "2021-05-13T03:42:28.990339Z",
     "shell.execute_reply": "2021-05-13T03:42:28.989394Z"
    },
    "papermill": {
     "duration": 0.061046,
     "end_time": "2021-05-13T03:42:28.990493",
     "exception": true,
     "start_time": "2021-05-13T03:42:28.929447",
     "status": "failed"
    },
    "tags": []
   },
   "outputs": [
    {
     "ename": "TypeError",
     "evalue": "can only concatenate str (not \"int\") to str",
     "output_type": "error",
     "traceback": [
      "\u001b[0;31m---------------------------------------------------------------------------\u001b[0m",
      "\u001b[0;31mTypeError\u001b[0m                                 Traceback (most recent call last)",
      "\u001b[0;32m<ipython-input-4-93c6fc8cdc6e>\u001b[0m in \u001b[0;36m<module>\u001b[0;34m\u001b[0m\n\u001b[0;32m----> 1\u001b[0;31m \u001b[0mprint\u001b[0m\u001b[0;34m(\u001b[0m\u001b[0md\u001b[0m \u001b[0;34m+\u001b[0m \u001b[0mc\u001b[0m\u001b[0;34m)\u001b[0m\u001b[0;34m\u001b[0m\u001b[0;34m\u001b[0m\u001b[0m\n\u001b[0m",
      "\u001b[0;31mTypeError\u001b[0m: can only concatenate str (not \"int\") to str"
     ]
    }
   ],
   "source": [
    "print(d + c)"
   ]
  },
  {
   "cell_type": "code",
   "execution_count": null,
   "metadata": {
    "papermill": {
     "duration": null,
     "end_time": null,
     "exception": null,
     "start_time": null,
     "status": "pending"
    },
    "tags": []
   },
   "outputs": [],
   "source": []
  }
 ],
 "metadata": {
  "celltoolbar": "Tags",
  "kernelspec": {
   "display_name": "Python 3",
   "language": "python",
   "name": "python3"
  },
  "language_info": {
   "codemirror_mode": {
    "name": "ipython",
    "version": 3
   },
   "file_extension": ".py",
   "mimetype": "text/x-python",
   "name": "python",
   "nbconvert_exporter": "python",
   "pygments_lexer": "ipython3",
   "version": "3.8.2"
  },
  "papermill": {
   "default_parameters": {},
   "duration": 2.018554,
   "end_time": "2021-05-13T03:42:30.255479",
   "environment_variables": {},
   "exception": true,
   "input_path": "notebook/papermill_exception.ipynb",
   "output_path": "notebook/papermill_exception_output.ipynb",
   "parameters": {
    "a": 1,
    "b": 2,
    "c": 3,
    "d": "woof"
   },
   "start_time": "2021-05-13T03:42:28.236925",
   "version": "2.2.2"
  },
  "toc": {
   "base_numbering": 1,
   "nav_menu": {},
   "number_sections": true,
   "sideBar": true,
   "skip_h1_title": false,
   "title_cell": "Table of Contents",
   "title_sidebar": "Contents",
   "toc_cell": false,
   "toc_position": {},
   "toc_section_display": true,
   "toc_window_display": false
  }
 },
 "nbformat": 4,
 "nbformat_minor": 4
}